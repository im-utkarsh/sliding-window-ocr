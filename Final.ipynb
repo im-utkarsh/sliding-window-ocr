{
 "cells": [
  {
   "cell_type": "markdown",
   "id": "387eed5c",
   "metadata": {},
   "source": [
    "# Text location"
   ]
  },
  {
   "cell_type": "code",
   "execution_count": null,
   "id": "06c9a134",
   "metadata": {},
   "outputs": [],
   "source": [
    "import numpy as np\n",
    "from PIL import Image"
   ]
  },
  {
   "cell_type": "code",
   "execution_count": null,
   "id": "f2334661",
   "metadata": {},
   "outputs": [],
   "source": [
    "def step_np(W=150,H=100,ws=50,hs=50):\n",
    "    im=np.asarray(Image.open('C:\\\\Users\\\\Utkarsh\\\\Pictures\\\\2.jpg'))\n",
    "    mask = np.zeros((im.shape[0],im.shape[1]), dtype=int)\n",
    "    for x in range(0,im.shape[0]-H+1,hs):\n",
    "        for y in range(0,im.shape[1]-W+1,ws):\n",
    "            a=im[x:x+H,y:y+W]\n",
    "            \n",
    "            # if text present\n",
    "                # add one to mask slice\n",
    "            \n",
    "            plt.imshow(a)\n",
    "            plt.show()"
   ]
  },
  {
   "cell_type": "code",
   "execution_count": null,
   "id": "00936f4f",
   "metadata": {},
   "outputs": [],
   "source": [
    "def detect_text_data(input):\n",
    "    im = Image.open(input)\n",
    "    imgwidth, imgheight = im.size\n",
    "    W = min(imgheight,imgwidth)\n",
    "    ws = W//3 # box moves by 1/3 its width\n",
    "    for i in range(0,imgwidth-W+1,ws):\n",
    "        box = (i, 0, i+W, imgheight)\n",
    "        a = im.crop(box)\n",
    "        # image size is square\n",
    "        plt.imshow(a)\n",
    "        plt.show()"
   ]
  },
  {
   "cell_type": "code",
   "execution_count": null,
   "id": "0929f26a",
   "metadata": {},
   "outputs": [],
   "source": []
  },
  {
   "cell_type": "code",
   "execution_count": null,
   "id": "42c72437",
   "metadata": {},
   "outputs": [],
   "source": []
  },
  {
   "cell_type": "markdown",
   "id": "c64e2e85",
   "metadata": {},
   "source": [
    "# Data for text detection"
   ]
  },
  {
   "cell_type": "code",
   "execution_count": null,
   "id": "d28ff75e",
   "metadata": {},
   "outputs": [],
   "source": [
    "import xml.etree.ElementTree as ET\n",
    "import os\n",
    "from pathlib import Path\n",
    "import numpy as np\n",
    "from PIL import Image, ImageOps\n",
    "import matplotlib.pyplot as plt\n",
    "%matplotlib inline"
   ]
  },
  {
   "cell_type": "code",
   "execution_count": null,
   "id": "4c344881",
   "metadata": {},
   "outputs": [],
   "source": [
    "path = Path('DataSet/ICDAR_2003__Train_Croped_Word')"
   ]
  },
  {
   "cell_type": "code",
   "execution_count": null,
   "id": "0cb900dc",
   "metadata": {},
   "outputs": [],
   "source": [
    "tree=ET.parse(os.path.join(path,'word.xml'))\n",
    "root=tree.getroot()"
   ]
  },
  {
   "cell_type": "code",
   "execution_count": null,
   "id": "5b5ce8bd",
   "metadata": {},
   "outputs": [],
   "source": [
    "def detect_text_data(input):\n",
    "    lst=[]\n",
    "    im = Image.open(input)\n",
    "    imgwidth, imgheight = im.size\n",
    "    if imgwidth < imgheight:\n",
    "        im=ImageOps.pad(im, (imgheight,imgheight),color=im.load()[0,0])\n",
    "        lst.append(np.asarray(im))\n",
    "        return lst\n",
    "    W = imgheight\n",
    "    ws = W//3 # box moves by 1/3 its width\n",
    "    for i in range(0,imgwidth-W+1,ws):\n",
    "        box = (i, 0, i+W, imgheight)\n",
    "        a = im.crop(box)\n",
    "        lst.append(np.asarray(a))\n",
    "    return lst"
   ]
  },
  {
   "cell_type": "code",
   "execution_count": null,
   "id": "6aa57ae6",
   "metadata": {},
   "outputs": [],
   "source": [
    "imgs = []\n",
    "for child in root:\n",
    "    k+=1\n",
    "    lst = detect_text_data(Path(os.path.join(path,child.attrib['file'])))\n",
    "    imgs+=lst"
   ]
  },
  {
   "cell_type": "code",
   "execution_count": null,
   "id": "366a9fee",
   "metadata": {},
   "outputs": [],
   "source": []
  },
  {
   "cell_type": "code",
   "execution_count": null,
   "id": "371f11c9",
   "metadata": {},
   "outputs": [],
   "source": []
  },
  {
   "cell_type": "markdown",
   "id": "e36a67f1",
   "metadata": {},
   "source": [
    "# Prediction time preprocessing"
   ]
  },
  {
   "cell_type": "markdown",
   "id": "53480094",
   "metadata": {},
   "source": [
    "## text detection"
   ]
  },
  {
   "cell_type": "code",
   "execution_count": null,
   "id": "f15d2bb0",
   "metadata": {},
   "outputs": [],
   "source": [
    "import os\n",
    "from PIL import Image\n",
    "import matplotlib.pyplot as plt\n",
    "import numpy as np"
   ]
  },
  {
   "cell_type": "code",
   "execution_count": 1,
   "id": "009ee08e",
   "metadata": {},
   "outputs": [],
   "source": [
    "def detect_preprocess(path,p,r):\n",
    "    inp=os.path.join(path,p)\n",
    "    im=Image.open(inp)\n",
    "    plt.imshow(im)\n",
    "    plt.show()\n",
    "    imgwidth, imgheight = im.size\n",
    "    S=int(min(imgwidth, imgheight)//r)\n",
    "    ss=S//2\n",
    "    mask=np.zeros((imgheight,imgwidth), dtype=int)\n",
    "    for i in range(0,imgheight-ss,ss):\n",
    "        for j in range(0,imgwidth-ss,ss):\n",
    "            if i+S>imgheight and j+S>imgwidth:\n",
    "                box=(imgwidth-S, imgheight-S, imgwidth, imgheight)\n",
    "            elif j+S>imgwidth:\n",
    "                box=(imgwidth-S, i, imgwidth, i+S)\n",
    "            elif i+S>imgheight:\n",
    "                box=(j, imgheight-S, j+S, imgheight)\n",
    "            else:\n",
    "                box = (j, i, j+S, i+S)\n",
    "            a = im.crop(box)\n",
    "            mask[i:i+S,j:j+S]+=1\n",
    "            plt.imshow(mask)\n",
    "            plt.show()\n",
    "            plt.imshow(a)\n",
    "            plt.show()"
   ]
  },
  {
   "cell_type": "code",
   "execution_count": null,
   "id": "92d4b96c",
   "metadata": {},
   "outputs": [],
   "source": [
    "path1='C:\\\\Users\\\\Utkarsh\\\\Projects\\\\OCR\\\\DataSet\\\\ICDAR_2003__Sample_Box\\\\scene'\n",
    "for p in os.listdir(path1):\n",
    "    for r in 1/np.arange(0.05,0.5,0.045):\n",
    "        func1(path1,p,r)\n",
    "        break\n",
    "    break"
   ]
  }
 ],
 "metadata": {
  "kernelspec": {
   "display_name": "OCR",
   "language": "python",
   "name": "ocr"
  },
  "language_info": {
   "codemirror_mode": {
    "name": "ipython",
    "version": 3
   },
   "file_extension": ".py",
   "mimetype": "text/x-python",
   "name": "python",
   "nbconvert_exporter": "python",
   "pygments_lexer": "ipython3",
   "version": "3.8.10"
  }
 },
 "nbformat": 4,
 "nbformat_minor": 5
}
