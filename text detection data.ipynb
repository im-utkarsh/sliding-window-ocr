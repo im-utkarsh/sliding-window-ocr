{
 "cells": [
  {
   "cell_type": "markdown",
   "id": "37115182",
   "metadata": {},
   "source": [
    "# Text detection data"
   ]
  },
  {
   "cell_type": "markdown",
   "id": "4061e0fd",
   "metadata": {},
   "source": [
    "## Yes"
   ]
  },
  {
   "cell_type": "code",
   "execution_count": 1,
   "id": "a075496e",
   "metadata": {},
   "outputs": [],
   "source": [
    "import xml.etree.ElementTree as ET\n",
    "import os\n",
    "from pathlib import Path\n",
    "import numpy as np\n",
    "%matplotlib inline"
   ]
  },
  {
   "cell_type": "code",
   "execution_count": 42,
   "id": "62bdafa4",
   "metadata": {},
   "outputs": [],
   "source": [
    "path = Path('DataSet/ICDAR_2003__Sample_Croped_Word')\n",
    "# path = Path('DataSet/ICDAR_2003__Train_Croped_Word')\n",
    "tree=ET.parse(os.path.join(path,'word.xml'))\n",
    "root=tree.getroot()"
   ]
  },
  {
   "cell_type": "code",
   "execution_count": 29,
   "id": "c27e3f03",
   "metadata": {},
   "outputs": [],
   "source": [
    "from PIL import Image, ImageOps\n",
    "import matplotlib.pyplot as plt"
   ]
  },
  {
   "cell_type": "code",
   "execution_count": null,
   "id": "fadca156",
   "metadata": {},
   "outputs": [],
   "source": [
    "# def detect_text_data(input, W=50, ws=20):\n",
    "#     im = Image.open(input)\n",
    "#     imgwidth, imgheight = im.size\n",
    "#     if imgwidth>50:\n",
    "#         W = max(imgwidth//5,W)\n",
    "#         print(W)\n",
    "#         for i in range(0,imgwidth-W+1,ws):\n",
    "#             box = (i, 0, i+W, imgheight)\n",
    "#             a = im.crop(box)\n",
    "#             plt.imshow(a)\n",
    "#     else:\n",
    "#         plt.imshow(im)"
   ]
  },
  {
   "cell_type": "code",
   "execution_count": 43,
   "id": "c454bbd4",
   "metadata": {},
   "outputs": [],
   "source": [
    "def detect_text_data(input,k):\n",
    "    l=0\n",
    "    im = Image.open(input)\n",
    "    imgwidth, imgheight = im.size\n",
    "    if imgwidth < imgheight:\n",
    "        a=ImageOps.pad(im, (imgheight,imgheight),color=im.load()[0,0])\n",
    "        a.save(os.path.join(save_path,'Yes',f\"IMG-s-{k}.png\"))\n",
    "    W = imgheight\n",
    "    ws = W//2 # box moves by 1/2 its width\n",
    "    for i in range(0,imgwidth-W+1,ws):\n",
    "        box = (i, 0, i+W, imgheight)\n",
    "        a = im.crop(box)\n",
    "        a.save(os.path.join(save_path,'Yes',f\"IMG-s-{k}-{l}.png\"))\n",
    "        l+=1"
   ]
  },
  {
   "cell_type": "code",
   "execution_count": 5,
   "id": "53317715",
   "metadata": {},
   "outputs": [],
   "source": [
    "img_path = 'C:\\\\Users\\\\Utkarsh\\\\Projects\\\\OCR\\\\DataSet\\\\ICDAR_2003__Train_Croped_Word\\\\word\\\\1\\\\54.jpg'"
   ]
  },
  {
   "cell_type": "code",
   "execution_count": 18,
   "id": "50c3a1ee",
   "metadata": {},
   "outputs": [],
   "source": [
    "save_path = 'C:\\\\Users\\\\Utkarsh\\\\Projects\\\\OCR\\\\DataSet\\\\Detect_Text'"
   ]
  },
  {
   "cell_type": "code",
   "execution_count": 44,
   "id": "4a20a788",
   "metadata": {
    "scrolled": false
   },
   "outputs": [],
   "source": [
    "k=0\n",
    "for child in root:\n",
    "    detect_text_data(Path(os.path.join(path,child.attrib['file'])),k)\n",
    "    k+=1"
   ]
  },
  {
   "cell_type": "code",
   "execution_count": null,
   "id": "27a695b4",
   "metadata": {},
   "outputs": [],
   "source": []
  },
  {
   "cell_type": "code",
   "execution_count": null,
   "id": "d3537747",
   "metadata": {},
   "outputs": [],
   "source": []
  },
  {
   "cell_type": "markdown",
   "id": "3d36a419",
   "metadata": {},
   "source": [
    "## No"
   ]
  },
  {
   "cell_type": "code",
   "execution_count": 1,
   "id": "23ec9474",
   "metadata": {},
   "outputs": [],
   "source": [
    "import numpy as np\n",
    "import os\n",
    "from PIL import Image\n",
    "import random\n",
    "import matplotlib.pyplot as plt"
   ]
  },
  {
   "cell_type": "code",
   "execution_count": 2,
   "id": "3efac215",
   "metadata": {},
   "outputs": [],
   "source": [
    "path='C:\\\\Users\\\\Utkarsh\\\\Downloads\\\\Data'\n",
    "save_path = 'C:\\\\Users\\\\Utkarsh\\\\Projects\\\\OCR\\\\DataSet\\\\Detect_Text'"
   ]
  },
  {
   "cell_type": "code",
   "execution_count": 3,
   "id": "4ef1a0d4",
   "metadata": {},
   "outputs": [],
   "source": [
    "def func(pth,k):\n",
    "    im=Image.open(pth)\n",
    "    imgwidth, imgheight = im.size\n",
    "    # loop for all boxes {250-300}\n",
    "    for l in range(72):\n",
    "        # select random r in 1/np.arange(0.05,0.5,0.045) {## reduce range}\n",
    "        r=random.choice(1/np.arange(0.0625,0.25,0.0234375))\n",
    "        S=int(min(imgwidth, imgheight)//r)\n",
    "\n",
    "        # select random box\n",
    "        i=np.random.randint(imgheight-S)\n",
    "        j=np.random.randint(imgwidth-S)\n",
    "        box = (j, i, j+S, i+S)\n",
    "        a = im.crop(box)\n",
    "\n",
    "        # save them in \"NO\" dir\n",
    "        a.save(os.path.join(save_path,'No',f\"IMG-{k}-{l}.png\"))"
   ]
  },
  {
   "cell_type": "code",
   "execution_count": 4,
   "id": "583a1134",
   "metadata": {
    "scrolled": false
   },
   "outputs": [],
   "source": [
    "k=0\n",
    "for p in os.listdir(path):\n",
    "    inp=os.path.join(path,p)\n",
    "    func(inp,k)\n",
    "    k+=1"
   ]
  },
  {
   "cell_type": "code",
   "execution_count": null,
   "id": "d4bd5cb4",
   "metadata": {},
   "outputs": [],
   "source": []
  },
  {
   "cell_type": "code",
   "execution_count": null,
   "id": "7848c074",
   "metadata": {},
   "outputs": [],
   "source": []
  },
  {
   "cell_type": "code",
   "execution_count": null,
   "id": "9e2c37a2",
   "metadata": {},
   "outputs": [],
   "source": []
  },
  {
   "cell_type": "code",
   "execution_count": 197,
   "id": "5785b606",
   "metadata": {},
   "outputs": [
    {
     "data": {
      "text/plain": [
       "7200"
      ]
     },
     "execution_count": 197,
     "metadata": {},
     "output_type": "execute_result"
    }
   ],
   "source": [
    "24*"
   ]
  },
  {
   "cell_type": "code",
   "execution_count": 201,
   "id": "3945c748",
   "metadata": {},
   "outputs": [
    {
     "data": {
      "text/plain": [
       "144.0"
      ]
     },
     "execution_count": 201,
     "metadata": {},
     "output_type": "execute_result"
    }
   ],
   "source": [
    "7200/50"
   ]
  },
  {
   "cell_type": "code",
   "execution_count": 6,
   "id": "02168bb9",
   "metadata": {},
   "outputs": [
    {
     "data": {
      "text/plain": [
       "7272"
      ]
     },
     "execution_count": 6,
     "metadata": {},
     "output_type": "execute_result"
    }
   ],
   "source": [
    "72*101"
   ]
  },
  {
   "cell_type": "code",
   "execution_count": null,
   "id": "e9bc4581",
   "metadata": {},
   "outputs": [],
   "source": []
  }
 ],
 "metadata": {
  "kernelspec": {
   "display_name": "OCR",
   "language": "python",
   "name": "ocr"
  },
  "language_info": {
   "codemirror_mode": {
    "name": "ipython",
    "version": 3
   },
   "file_extension": ".py",
   "mimetype": "text/x-python",
   "name": "python",
   "nbconvert_exporter": "python",
   "pygments_lexer": "ipython3",
   "version": "3.8.10"
  }
 },
 "nbformat": 4,
 "nbformat_minor": 5
}
